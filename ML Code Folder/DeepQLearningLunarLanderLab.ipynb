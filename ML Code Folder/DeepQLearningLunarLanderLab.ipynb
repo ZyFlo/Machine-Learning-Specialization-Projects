{
 "cells": [
  {
   "cell_type": "markdown",
   "metadata": {},
   "source": [
    "# Deep Q-Learning - Lunar Lander Lab\n",
    "\n",
    "Training an agent to land a lunar lander safely on a landing pad on the surface of the moon.\n",
    "\n",
    "\n"
   ]
  },
  {
   "cell_type": "code",
   "execution_count": 1,
   "metadata": {
    "deletable": false,
    "editable": false,
    "id": "KYbOPKRtfQOr"
   },
   "outputs": [],
   "source": [
    "import time\n",
    "from collections import deque, namedtuple\n",
    "\n",
    "import gym\n",
    "import numpy as np\n",
    "import PIL.Image\n",
    "import tensorflow as tf\n",
    "import utils\n",
    "\n",
    "from pyvirtualdisplay import Display\n",
    "from tensorflow.keras import Sequential\n",
    "from tensorflow.keras.layers import Dense, Input\n",
    "from tensorflow.keras.losses import MSE\n",
    "from tensorflow.keras.optimizers import Adam"
   ]
  },
  {
   "cell_type": "code",
   "execution_count": 2,
   "metadata": {
    "deletable": false,
    "editable": false
   },
   "outputs": [],
   "source": [
    "# Set up a virtual display to render the Lunar Lander environment.\n",
    "Display(visible=0, size=(840, 480)).start();\n",
    "\n",
    "# Set the random seed for TensorFlow\n",
    "tf.random.set_seed(utils.SEED)"
   ]
  },
  {
   "cell_type": "markdown",
   "metadata": {},
   "source": [
    "<a name=\"2\"></a>\n",
    "## Hyperparameters\n"
   ]
  },
  {
   "cell_type": "code",
   "execution_count": 3,
   "metadata": {
    "deletable": false,
    "editable": false
   },
   "outputs": [],
   "source": [
    "MEMORY_SIZE = 100_000     # size of memory buffer\n",
    "GAMMA = 0.995             # discount factor\n",
    "ALPHA = 1e-3              # learning rate  \n",
    "NUM_STEPS_FOR_UPDATE = 4  # perform a learning update every C time steps"
   ]
  },
  {
   "cell_type": "markdown",
   "metadata": {},
   "source": [
    "<a name=\"3\"></a>\n",
    "## The Lunar Lander Environment\n",
    "\n",
    "Using [OpenAI's Gym Library](https://www.gymlibrary.dev/). The Gym library provides a wide variety of environments for reinforcement learning. To put it simply, an environment represents a problem or task to be solved. In this notebook, we will try to solve the Lunar Lander environment using reinforcement learning.\n",
    "\n",
    "The goal of the Lunar Lander environment is to land the lunar lander safely on the landing pad on the surface of the moon. The landing pad is designated by two flag poles and its center is at coordinates `(0,0)` but the lander is also allowed to land outside of the landing pad. The lander starts at the top center of the environment with a random initial force applied to its center of mass and has infinite fuel. The environment is considered solved if you get `200` points. \n",
    "\n",
    "\n",
    "\n",
    "\n",
    "<a name=\"3.1\"></a>\n",
    "### Action Space\n",
    "\n",
    "The agent has four discrete actions available:\n",
    "\n",
    "* Do nothing.\n",
    "* Fire right engine.\n",
    "* Fire main engine.\n",
    "* Fire left engine.\n",
    "\n",
    "Each action has a corresponding numerical value:\n",
    "\n",
    "```python\n",
    "Do nothing = 0\n",
    "Fire right engine = 1\n",
    "Fire main engine = 2\n",
    "Fire left engine = 3\n",
    "```\n",
    "\n",
    "<a name=\"3.2\"></a>\n",
    "### Observation Space\n",
    "\n",
    "The agent's observation space consists of a state vector with 8 variables:\n",
    "\n",
    "* Its $(x,y)$ coordinates. The landing pad is always at coordinates $(0,0)$.\n",
    "* Its linear velocities $(\\dot x,\\dot y)$.\n",
    "* Its angle $\\theta$.\n",
    "* Its angular velocity $\\dot \\theta$.\n",
    "* Two booleans, $l$ and $r$, that represent whether each leg is in contact with the ground or not.\n",
    "\n",
    "<a name=\"3.3\"></a>\n",
    "### Rewards\n",
    "\n",
    "After every step, a reward is granted. The total reward of an episode is the sum of the rewards for all the steps within that episode.\n",
    "\n",
    "For each step, the reward:\n",
    "- is increased/decreased the closer/further the lander is to the landing pad.\n",
    "- is increased/decreased the slower/faster the lander is moving.\n",
    "- is decreased the more the lander is tilted (angle not horizontal).\n",
    "- is increased by 10 points for each leg that is in contact with the ground.\n",
    "- is decreased by 0.03 points each frame a side engine is firing.\n",
    "- is decreased by 0.3 points each frame the main engine is firing.\n",
    "\n",
    "The episode receives an additional reward of -100 or +100 points for crashing or landing safely respectively.\n",
    "\n",
    "<a name=\"3.4\"></a>\n",
    "### Episode Termination\n",
    "\n",
    "An episode ends (i.e the environment enters a terminal state) if:\n",
    "\n",
    "* The lunar lander crashes (i.e if the body of the lunar lander comes in contact with the surface of the moon).\n",
    "\n",
    "* The absolute value of the lander's $x$-coordinate is greater than 1 (i.e. it goes beyond the left or right border)\n",
    "\n",
    "You can check out the [Open AI Gym documentation](https://www.gymlibrary.dev/environments/box2d/lunar_lander/) for a full description of the environment. "
   ]
  },
  {
   "cell_type": "markdown",
   "metadata": {},
   "source": [
    "<a name=\"4\"></a>\n",
    "## Load the Environment\n",
    "\n",
    "Loading the `LunarLander-v2` environment from the `gym` library by using the `.make()` method. `LunarLander-v2` is the latest version of the Lunar Lander environment and you can read about its version history in the [Open AI Gym documentation](https://www.gymlibrary.dev/environments/box2d/lunar_lander/#version-history)."
   ]
  },
  {
   "cell_type": "code",
   "execution_count": 4,
   "metadata": {
    "deletable": false,
    "editable": false,
    "id": "ILVMYKewfR0n"
   },
   "outputs": [],
   "source": [
    "env = gym.make('LunarLander-v2')"
   ]
  },
  {
   "cell_type": "markdown",
   "metadata": {},
   "source": [
    "Loading the environment using the `.reset()` method to reset the environment to the initial state. The lander starts at the top center of the environment and can render the first frame of the environment by using the `.render()` method."
   ]
  },
  {
   "cell_type": "code",
   "execution_count": 5,
   "metadata": {
    "deletable": false,
    "editable": false
   },
   "outputs": [
    {
     "data": {
      "image/png": "[encoded data removed]",
      "text/plain": [
       "<PIL.Image.Image image mode=RGB size=600x400 at 0x7BF3B9A57E50>"
      ]
     },
     "execution_count": 5,
     "metadata": {},
     "output_type": "execute_result"
    }
   ],
   "source": [
    "env.reset()\n",
    "PIL.Image.fromarray(env.render(mode='rgb_array'))"
   ]
  },
  {
   "cell_type": "code",
   "execution_count": 6,
   "metadata": {
    "deletable": false,
    "editable": false,
    "id": "x3fdqdG4CUu2"
   },
   "outputs": [
    {
     "name": "stdout",
     "output_type": "stream",
     "text": [
      "State Shape: (8,)\n",
      "Number of actions: 4\n"
     ]
    }
   ],
   "source": [
    "state_size = env.observation_space.shape\n",
    "num_actions = env.action_space.n\n",
    "\n",
    "print('State Shape:', state_size)\n",
    "print('Number of actions:', num_actions)"
   ]
  },
  {
   "cell_type": "markdown",
   "metadata": {},
   "source": [
    "<a name=\"5\"></a>\n",
    "## Interacting with the Gym Environment\n",
    "\n",
    "The Gym library implements the standard “agent-environment loop” formalism:\n",
    "\n",
    "In the standard “agent-environment loop” formalism, an agent interacts with the environment in discrete time steps $t=0,1,2,...$. At each time step $t$, the agent uses a policy $\\pi$ to select an action $A_t$ based on its observation of the environment's state $S_t$. The agent receives a numerical reward $R_t$ and on the next time step, moves to a new state $S_{t+1}$.\n",
    "\n",
    "<a name=\"5.1\"></a>\n",
    "### Exploring the Environment's Dynamics\n",
    "\n",
    "In Open AI's Gym environments, use the `.step()` method to run a single time step of the environment's dynamics. In the version of `gym` the `.step()` method accepts an action and returns four values:\n",
    "\n",
    "* `observation` (**object**): an environment-specific object representing your observation of the environment. In the Lunar Lander environment this corresponds to a numpy array containing the positions and velocities of the lander.\n",
    "\n",
    "\n",
    "* `reward` (**float**): amount of reward returned as a result of taking the given action. In the Lunar Lander environment this corresponds to a float of type `numpy.float64.\n",
    "\n",
    "\n",
    "* `done` (**boolean**): When done is `True`, it indicates the episode has terminated and it’s time to reset the environment. \n",
    "\n",
    "\n",
    "* `info` (**dictionary**): diagnostic information useful for debugging. We won't be using this variable in this notebook but it is shown here for completeness.\n"
   ]
  },
  {
   "cell_type": "code",
   "execution_count": 7,
   "metadata": {
    "deletable": false,
    "editable": false
   },
   "outputs": [],
   "source": [
    "# Reset the environment and get the initial state.\n",
    "current_state = env.reset()"
   ]
  },
  {
   "cell_type": "markdown",
   "metadata": {},
   "source": [
    "Once the environment is reset, the agent can start taking actions in the environment by using the `.step()` method. Note that the agent can only take one action per time step. \n",
    "\n",
    "In the cell below you can select different actions and see how the returned values change depending on the action taken. Remember that in this environment the agent has four discrete actions available and we specify them in code by using their corresponding numerical value:\n",
    "\n",
    "```python\n",
    "Do nothing = 0\n",
    "Fire right engine = 1\n",
    "Fire main engine = 2\n",
    "Fire left engine = 3\n",
    "```"
   ]
  },
  {
   "cell_type": "code",
   "execution_count": 8,
   "metadata": {
    "deletable": false
   },
   "outputs": [
    {
     "data": {
      "text/html": [
       "<style  type=\"text/css\" >\n",
       "    #T_93f90ec8_63e2_11ef_b5d4_0242ac120038 th {\n",
       "          border: 1px solid grey;\n",
       "          text-align: center;\n",
       "    }    #T_93f90ec8_63e2_11ef_b5d4_0242ac120038 tbody td {\n",
       "          border: 1px solid grey;\n",
       "          text-align: center;\n",
       "    }    #T_93f90ec8_63e2_11ef_b5d4_0242ac120038row0_col0 {\n",
       "            background-color :  grey;\n",
       "        }    #T_93f90ec8_63e2_11ef_b5d4_0242ac120038row1_col1 {\n",
       "            background-color :  grey;\n",
       "        }    #T_93f90ec8_63e2_11ef_b5d4_0242ac120038row1_col2 {\n",
       "            background-color :  grey;\n",
       "        }    #T_93f90ec8_63e2_11ef_b5d4_0242ac120038row1_col3 {\n",
       "            background-color :  grey;\n",
       "        }    #T_93f90ec8_63e2_11ef_b5d4_0242ac120038row1_col4 {\n",
       "            background-color :  grey;\n",
       "        }    #T_93f90ec8_63e2_11ef_b5d4_0242ac120038row1_col5 {\n",
       "            background-color :  grey;\n",
       "        }    #T_93f90ec8_63e2_11ef_b5d4_0242ac120038row1_col6 {\n",
       "            background-color :  grey;\n",
       "        }    #T_93f90ec8_63e2_11ef_b5d4_0242ac120038row1_col7 {\n",
       "            background-color :  grey;\n",
       "        }    #T_93f90ec8_63e2_11ef_b5d4_0242ac120038row1_col8 {\n",
       "            background-color :  grey;\n",
       "        }    #T_93f90ec8_63e2_11ef_b5d4_0242ac120038row1_col9 {\n",
       "            background-color :  grey;\n",
       "        }    #T_93f90ec8_63e2_11ef_b5d4_0242ac120038row1_col10 {\n",
       "            background-color :  grey;\n",
       "        }    #T_93f90ec8_63e2_11ef_b5d4_0242ac120038row1_col11 {\n",
       "            background-color :  grey;\n",
       "        }    #T_93f90ec8_63e2_11ef_b5d4_0242ac120038row2_col0 {\n",
       "            background-color :  grey;\n",
       "        }    #T_93f90ec8_63e2_11ef_b5d4_0242ac120038row3_col1 {\n",
       "            background-color :  grey;\n",
       "        }    #T_93f90ec8_63e2_11ef_b5d4_0242ac120038row3_col2 {\n",
       "            background-color :  grey;\n",
       "        }    #T_93f90ec8_63e2_11ef_b5d4_0242ac120038row3_col3 {\n",
       "            background-color :  grey;\n",
       "        }    #T_93f90ec8_63e2_11ef_b5d4_0242ac120038row3_col4 {\n",
       "            background-color :  grey;\n",
       "        }    #T_93f90ec8_63e2_11ef_b5d4_0242ac120038row3_col5 {\n",
       "            background-color :  grey;\n",
       "        }    #T_93f90ec8_63e2_11ef_b5d4_0242ac120038row3_col6 {\n",
       "            background-color :  grey;\n",
       "        }    #T_93f90ec8_63e2_11ef_b5d4_0242ac120038row3_col7 {\n",
       "            background-color :  grey;\n",
       "        }    #T_93f90ec8_63e2_11ef_b5d4_0242ac120038row3_col8 {\n",
       "            background-color :  grey;\n",
       "        }    #T_93f90ec8_63e2_11ef_b5d4_0242ac120038row3_col9 {\n",
       "            background-color :  grey;\n",
       "        }    #T_93f90ec8_63e2_11ef_b5d4_0242ac120038row3_col10 {\n",
       "            background-color :  grey;\n",
       "        }    #T_93f90ec8_63e2_11ef_b5d4_0242ac120038row3_col11 {\n",
       "            background-color :  grey;\n",
       "        }    #T_93f90ec8_63e2_11ef_b5d4_0242ac120038row4_col1 {\n",
       "            background-color :  grey;\n",
       "        }    #T_93f90ec8_63e2_11ef_b5d4_0242ac120038row4_col2 {\n",
       "            background-color :  grey;\n",
       "        }    #T_93f90ec8_63e2_11ef_b5d4_0242ac120038row4_col3 {\n",
       "            background-color :  grey;\n",
       "        }    #T_93f90ec8_63e2_11ef_b5d4_0242ac120038row4_col4 {\n",
       "            background-color :  grey;\n",
       "        }    #T_93f90ec8_63e2_11ef_b5d4_0242ac120038row4_col5 {\n",
       "            background-color :  grey;\n",
       "        }    #T_93f90ec8_63e2_11ef_b5d4_0242ac120038row4_col6 {\n",
       "            background-color :  grey;\n",
       "        }    #T_93f90ec8_63e2_11ef_b5d4_0242ac120038row4_col7 {\n",
       "            background-color :  grey;\n",
       "        }    #T_93f90ec8_63e2_11ef_b5d4_0242ac120038row4_col8 {\n",
       "            background-color :  grey;\n",
       "        }    #T_93f90ec8_63e2_11ef_b5d4_0242ac120038row4_col9 {\n",
       "            background-color :  grey;\n",
       "        }    #T_93f90ec8_63e2_11ef_b5d4_0242ac120038row4_col10 {\n",
       "            background-color :  grey;\n",
       "        }    #T_93f90ec8_63e2_11ef_b5d4_0242ac120038row4_col11 {\n",
       "            background-color :  grey;\n",
       "        }</style><table id=\"T_93f90ec8_63e2_11ef_b5d4_0242ac120038\" ><thead>    <tr>        <th class=\"blank level0\" ></th>        <th class=\"col_heading level0 col0\" ></th>        <th class=\"col_heading level0 col1\" colspan=8>State Vector</th>        <th class=\"col_heading level0 col9\" colspan=3>Derived from the State Vector (the closer to zero, the better)</th>    </tr>    <tr>        <th class=\"blank level1\" ></th>        <th class=\"col_heading level1 col0\" ></th>        <th class=\"col_heading level1 col1\" colspan=2>Coordinate</th>        <th class=\"col_heading level1 col3\" colspan=2>Velocity</th>        <th class=\"col_heading level1 col5\" colspan=2>Tilting</th>        <th class=\"col_heading level1 col7\" colspan=2>Ground contact</th>        <th class=\"col_heading level1 col9\" >Distance from landing pad</th>        <th class=\"col_heading level1 col10\" >Velocity</th>        <th class=\"col_heading level1 col11\" >Tilting Angle (absolute value)</th>    </tr>    <tr>        <th class=\"blank level2\" ></th>        <th class=\"col_heading level2 col0\" ></th>        <th class=\"col_heading level2 col1\" >X (Horizontal)</th>        <th class=\"col_heading level2 col2\" >Y (Vertical)</th>        <th class=\"col_heading level2 col3\" >X (Horizontal)</th>        <th class=\"col_heading level2 col4\" >Y (Vertical)</th>        <th class=\"col_heading level2 col5\" >Angle</th>        <th class=\"col_heading level2 col6\" >Angular Velocity</th>        <th class=\"col_heading level2 col7\" >Left Leg?</th>        <th class=\"col_heading level2 col8\" >Right Leg?</th>        <th class=\"col_heading level2 col9\" ></th>        <th class=\"col_heading level2 col10\" ></th>        <th class=\"col_heading level2 col11\" ></th>    </tr></thead><tbody>\n",
       "                <tr>\n",
       "                        <th id=\"T_93f90ec8_63e2_11ef_b5d4_0242ac120038level0_row0\" class=\"row_heading level0 row0\" >Current State</th>\n",
       "                        <td id=\"T_93f90ec8_63e2_11ef_b5d4_0242ac120038row0_col0\" class=\"data row0 col0\" ></td>\n",
       "                        <td id=\"T_93f90ec8_63e2_11ef_b5d4_0242ac120038row0_col1\" class=\"data row0 col1\" >0.001919</td>\n",
       "                        <td id=\"T_93f90ec8_63e2_11ef_b5d4_0242ac120038row0_col2\" class=\"data row0 col2\" >1.422301</td>\n",
       "                        <td id=\"T_93f90ec8_63e2_11ef_b5d4_0242ac120038row0_col3\" class=\"data row0 col3\" >0.194400</td>\n",
       "                        <td id=\"T_93f90ec8_63e2_11ef_b5d4_0242ac120038row0_col4\" class=\"data row0 col4\" >0.505814</td>\n",
       "                        <td id=\"T_93f90ec8_63e2_11ef_b5d4_0242ac120038row0_col5\" class=\"data row0 col5\" >-0.002217</td>\n",
       "                        <td id=\"T_93f90ec8_63e2_11ef_b5d4_0242ac120038row0_col6\" class=\"data row0 col6\" >-0.044034</td>\n",
       "                        <td id=\"T_93f90ec8_63e2_11ef_b5d4_0242ac120038row0_col7\" class=\"data row0 col7\" >False</td>\n",
       "                        <td id=\"T_93f90ec8_63e2_11ef_b5d4_0242ac120038row0_col8\" class=\"data row0 col8\" >False</td>\n",
       "                        <td id=\"T_93f90ec8_63e2_11ef_b5d4_0242ac120038row0_col9\" class=\"data row0 col9\" >1.422302</td>\n",
       "                        <td id=\"T_93f90ec8_63e2_11ef_b5d4_0242ac120038row0_col10\" class=\"data row0 col10\" >0.541885</td>\n",
       "                        <td id=\"T_93f90ec8_63e2_11ef_b5d4_0242ac120038row0_col11\" class=\"data row0 col11\" >0.002217</td>\n",
       "            </tr>\n",
       "            <tr>\n",
       "                        <th id=\"T_93f90ec8_63e2_11ef_b5d4_0242ac120038level0_row1\" class=\"row_heading level0 row1\" >Action</th>\n",
       "                        <td id=\"T_93f90ec8_63e2_11ef_b5d4_0242ac120038row1_col0\" class=\"data row1 col0\" >Do nothing</td>\n",
       "                        <td id=\"T_93f90ec8_63e2_11ef_b5d4_0242ac120038row1_col1\" class=\"data row1 col1\" ></td>\n",
       "                        <td id=\"T_93f90ec8_63e2_11ef_b5d4_0242ac120038row1_col2\" class=\"data row1 col2\" ></td>\n",
       "                        <td id=\"T_93f90ec8_63e2_11ef_b5d4_0242ac120038row1_col3\" class=\"data row1 col3\" ></td>\n",
       "                        <td id=\"T_93f90ec8_63e2_11ef_b5d4_0242ac120038row1_col4\" class=\"data row1 col4\" ></td>\n",
       "                        <td id=\"T_93f90ec8_63e2_11ef_b5d4_0242ac120038row1_col5\" class=\"data row1 col5\" ></td>\n",
       "                        <td id=\"T_93f90ec8_63e2_11ef_b5d4_0242ac120038row1_col6\" class=\"data row1 col6\" ></td>\n",
       "                        <td id=\"T_93f90ec8_63e2_11ef_b5d4_0242ac120038row1_col7\" class=\"data row1 col7\" ></td>\n",
       "                        <td id=\"T_93f90ec8_63e2_11ef_b5d4_0242ac120038row1_col8\" class=\"data row1 col8\" ></td>\n",
       "                        <td id=\"T_93f90ec8_63e2_11ef_b5d4_0242ac120038row1_col9\" class=\"data row1 col9\" ></td>\n",
       "                        <td id=\"T_93f90ec8_63e2_11ef_b5d4_0242ac120038row1_col10\" class=\"data row1 col10\" ></td>\n",
       "                        <td id=\"T_93f90ec8_63e2_11ef_b5d4_0242ac120038row1_col11\" class=\"data row1 col11\" ></td>\n",
       "            </tr>\n",
       "            <tr>\n",
       "                        <th id=\"T_93f90ec8_63e2_11ef_b5d4_0242ac120038level0_row2\" class=\"row_heading level0 row2\" >Next State</th>\n",
       "                        <td id=\"T_93f90ec8_63e2_11ef_b5d4_0242ac120038row2_col0\" class=\"data row2 col0\" ></td>\n",
       "                        <td id=\"T_93f90ec8_63e2_11ef_b5d4_0242ac120038row2_col1\" class=\"data row2 col1\" >0.003839</td>\n",
       "                        <td id=\"T_93f90ec8_63e2_11ef_b5d4_0242ac120038row2_col2\" class=\"data row2 col2\" >1.433103</td>\n",
       "                        <td id=\"T_93f90ec8_63e2_11ef_b5d4_0242ac120038row2_col3\" class=\"data row2 col3\" >0.194137</td>\n",
       "                        <td id=\"T_93f90ec8_63e2_11ef_b5d4_0242ac120038row2_col4\" class=\"data row2 col4\" >0.480094</td>\n",
       "                        <td id=\"T_93f90ec8_63e2_11ef_b5d4_0242ac120038row2_col5\" class=\"data row2 col5\" >-0.004393</td>\n",
       "                        <td id=\"T_93f90ec8_63e2_11ef_b5d4_0242ac120038row2_col6\" class=\"data row2 col6\" >-0.043519</td>\n",
       "                        <td id=\"T_93f90ec8_63e2_11ef_b5d4_0242ac120038row2_col7\" class=\"data row2 col7\" >False</td>\n",
       "                        <td id=\"T_93f90ec8_63e2_11ef_b5d4_0242ac120038row2_col8\" class=\"data row2 col8\" >False</td>\n",
       "                        <td id=\"T_93f90ec8_63e2_11ef_b5d4_0242ac120038row2_col9\" class=\"data row2 col9\" >1.433108</td>\n",
       "                        <td id=\"T_93f90ec8_63e2_11ef_b5d4_0242ac120038row2_col10\" class=\"data row2 col10\" >0.517860</td>\n",
       "                        <td id=\"T_93f90ec8_63e2_11ef_b5d4_0242ac120038row2_col11\" class=\"data row2 col11\" >0.004393</td>\n",
       "            </tr>\n",
       "            <tr>\n",
       "                        <th id=\"T_93f90ec8_63e2_11ef_b5d4_0242ac120038level0_row3\" class=\"row_heading level0 row3\" >Reward</th>\n",
       "                        <td id=\"T_93f90ec8_63e2_11ef_b5d4_0242ac120038row3_col0\" class=\"data row3 col0\" >1.104326</td>\n",
       "                        <td id=\"T_93f90ec8_63e2_11ef_b5d4_0242ac120038row3_col1\" class=\"data row3 col1\" ></td>\n",
       "                        <td id=\"T_93f90ec8_63e2_11ef_b5d4_0242ac120038row3_col2\" class=\"data row3 col2\" ></td>\n",
       "                        <td id=\"T_93f90ec8_63e2_11ef_b5d4_0242ac120038row3_col3\" class=\"data row3 col3\" ></td>\n",
       "                        <td id=\"T_93f90ec8_63e2_11ef_b5d4_0242ac120038row3_col4\" class=\"data row3 col4\" ></td>\n",
       "                        <td id=\"T_93f90ec8_63e2_11ef_b5d4_0242ac120038row3_col5\" class=\"data row3 col5\" ></td>\n",
       "                        <td id=\"T_93f90ec8_63e2_11ef_b5d4_0242ac120038row3_col6\" class=\"data row3 col6\" ></td>\n",
       "                        <td id=\"T_93f90ec8_63e2_11ef_b5d4_0242ac120038row3_col7\" class=\"data row3 col7\" ></td>\n",
       "                        <td id=\"T_93f90ec8_63e2_11ef_b5d4_0242ac120038row3_col8\" class=\"data row3 col8\" ></td>\n",
       "                        <td id=\"T_93f90ec8_63e2_11ef_b5d4_0242ac120038row3_col9\" class=\"data row3 col9\" ></td>\n",
       "                        <td id=\"T_93f90ec8_63e2_11ef_b5d4_0242ac120038row3_col10\" class=\"data row3 col10\" ></td>\n",
       "                        <td id=\"T_93f90ec8_63e2_11ef_b5d4_0242ac120038row3_col11\" class=\"data row3 col11\" ></td>\n",
       "            </tr>\n",
       "            <tr>\n",
       "                        <th id=\"T_93f90ec8_63e2_11ef_b5d4_0242ac120038level0_row4\" class=\"row_heading level0 row4\" >Episode Terminated</th>\n",
       "                        <td id=\"T_93f90ec8_63e2_11ef_b5d4_0242ac120038row4_col0\" class=\"data row4 col0\" >False</td>\n",
       "                        <td id=\"T_93f90ec8_63e2_11ef_b5d4_0242ac120038row4_col1\" class=\"data row4 col1\" ></td>\n",
       "                        <td id=\"T_93f90ec8_63e2_11ef_b5d4_0242ac120038row4_col2\" class=\"data row4 col2\" ></td>\n",
       "                        <td id=\"T_93f90ec8_63e2_11ef_b5d4_0242ac120038row4_col3\" class=\"data row4 col3\" ></td>\n",
       "                        <td id=\"T_93f90ec8_63e2_11ef_b5d4_0242ac120038row4_col4\" class=\"data row4 col4\" ></td>\n",
       "                        <td id=\"T_93f90ec8_63e2_11ef_b5d4_0242ac120038row4_col5\" class=\"data row4 col5\" ></td>\n",
       "                        <td id=\"T_93f90ec8_63e2_11ef_b5d4_0242ac120038row4_col6\" class=\"data row4 col6\" ></td>\n",
       "                        <td id=\"T_93f90ec8_63e2_11ef_b5d4_0242ac120038row4_col7\" class=\"data row4 col7\" ></td>\n",
       "                        <td id=\"T_93f90ec8_63e2_11ef_b5d4_0242ac120038row4_col8\" class=\"data row4 col8\" ></td>\n",
       "                        <td id=\"T_93f90ec8_63e2_11ef_b5d4_0242ac120038row4_col9\" class=\"data row4 col9\" ></td>\n",
       "                        <td id=\"T_93f90ec8_63e2_11ef_b5d4_0242ac120038row4_col10\" class=\"data row4 col10\" ></td>\n",
       "                        <td id=\"T_93f90ec8_63e2_11ef_b5d4_0242ac120038row4_col11\" class=\"data row4 col11\" ></td>\n",
       "            </tr>\n",
       "    </tbody></table>"
      ],
      "text/plain": [
       "<pandas.io.formats.style.Styler at 0x7bf319db4e10>"
      ]
     },
     "metadata": {},
     "output_type": "display_data"
    }
   ],
   "source": [
    "# Select an action\n",
    "action = 0\n",
    "\n",
    "# Run a single time step of the environment's dynamics with the given action.\n",
    "next_state, reward, done, _ = env.step(action)\n",
    "\n",
    "# Display table with values.\n",
    "utils.display_table(current_state, action, next_state, reward, done)\n",
    "\n",
    "# Replace the `current_state` with the state after the action is taken\n",
    "current_state = next_state"
   ]
  },
  {
   "cell_type": "markdown",
   "metadata": {},
   "source": [
    "<a name=\"6\"></a>\n",
    "## Deep Q-Learning\n",
    "\n",
    "In cases where both the state and action space are discrete estimate the action-value function iteratively by using the Bellman equation:\n",
    "\n",
    "$$\n",
    "Q_{i+1}(s,a) = R + \\gamma \\max_{a'}Q_i(s',a')\n",
    "$$\n",
    "\n",
    "This iterative method converges to the optimal action-value function $Q^*(s,a)$ as $i\\to\\infty$. This means that the agent just needs to gradually explore the state-action space and keep updating the estimate of $Q(s,a)$ until it converges to the optimal action-value function $Q^*(s,a)$. However, in cases where the state space is continuous it becomes practically impossible to explore the entire state-action space. Consequently, this also makes it practically impossible to gradually estimate $Q(s,a)$ until it converges to $Q^*(s,a)$.\n",
    "\n",
    "In the Deep $Q$-Learning, solve this problem by using a neural network to estimate the action-value function $Q(s,a)\\approx Q^*(s,a)$. This neural network is a $Q$-Network and it can be trained by adjusting its weights at each iteration to minimize the mean-squared error in the Bellman equation.\n",
    "\n",
    "Unfortunately, using neural networks in reinforcement learning to estimate action-value functions has proven to be highly unstable. "
   ]
  },
  {
   "cell_type": "markdown",
   "metadata": {},
   "source": [
    "<a name=\"6.1\"></a>\n",
    "### Target Network\n",
    "\n",
    "Train the $Q$-Network by adjusting it's weights at each iteration to minimize the mean-squared error in the Bellman equation, where the target values are given by:\n",
    "\n",
    "$$\n",
    "y = R + \\gamma \\max_{a'}Q(s',a';w)\n",
    "$$\n",
    "\n",
    "where $w$ are the weights of the $Q$-Network. Adjusting the weights $w$ at each iteration to minimize the following error:\n",
    "\n",
    "$$\n",
    "\\overbrace{\\underbrace{R + \\gamma \\max_{a'}Q(s',a'; w)}_{\\rm {y~target}} - Q(s,a;w)}^{\\rm {Error}}\n",
    "$$\n",
    "\n",
    "Notice that this forms a problem because the $y$ target is changing on every iteration. Having a constantly moving target can lead to oscillations and instabilities. To avoid this, create\n",
    "a separate neural network for generating the $y$ targets. This separate neural network is the **target $\\hat Q$-Network** and it will have the same architecture as the original $Q$-Network. By using the target $\\hat Q$-Network, the above error becomes:\n",
    "\n",
    "$$\n",
    "\\overbrace{\\underbrace{R + \\gamma \\max_{a'}\\hat{Q}(s',a'; w^-)}_{\\rm {y~target}} - Q(s,a;w)}^{\\rm {Error}}\n",
    "$$\n",
    "\n",
    "where $w^-$ and $w$ are the weights of the target $\\hat Q$-Network and $Q$-Network, respectively.\n",
    "\n",
    "In practice, use the following algorithm: every $C$ time steps we will use the $\\hat Q$-Network to generate the $y$ targets and update the weights of the target $\\hat Q$-Network using the weights of the $Q$-Network. Update the weights $w^-$ of the the target $\\hat Q$-Network using a **soft update**:\n",
    " \n",
    "$$\n",
    "w^-\\leftarrow \\tau w + (1 - \\tau) w^-\n",
    "$$\n",
    "\n",
    "where $\\tau\\ll 1$. "
   ]
  },
  {
   "cell_type": "markdown",
   "metadata": {},
   "source": [
    "\n",
    "Create the $Q$ and target $\\hat Q$ networks and set the optimizer. Remember that the Deep $Q$-Network (DQN) is a neural network that approximates the action-value function $Q(s,a)\\approx Q^*(s,a)$. It does this by learning how to map states to $Q$ values.\n",
    "\n",
    "To solve the Lunar Lander environment, employ a DQN with the following architecture:\n",
    "\n",
    "* An `Input` layer that takes `state_size` as input.\n",
    "\n",
    "* A `Dense` layer with `64` units and a `relu` activation function.\n",
    "\n",
    "* A `Dense` layer with `64` units and a `relu` activation function.\n",
    "\n",
    "* A `Dense` layer with `num_actions` units and a `linear` activation function. This will be the output layer of our network.\n",
    "\n"
   ]
  },
  {
   "cell_type": "code",
   "execution_count": 9,
   "metadata": {
    "deletable": false
   },
   "outputs": [],
   "source": [
    "\n",
    "# Create the Q-Network\n",
    "q_network = Sequential([\n",
    "    Input(shape = state_size),\n",
    "    Dense(64, \"relu\"),\n",
    "    Dense(64, \"relu\"),\n",
    "    Dense(num_actions, \"linear\")\n",
    "    \n",
    "    ])\n",
    "\n",
    "# Create the target Q^-Network\n",
    "target_q_network = Sequential([\n",
    "    Input(shape = state_size),\n",
    "    Dense(64, \"relu\"),\n",
    "    Dense(64, \"relu\"),\n",
    "    Dense(num_actions, \"linear\")\n",
    "    \n",
    "    \n",
    "    ])\n",
    "\n",
    "optimizer = Adam(ALPHA)\n"
   ]
  },
  {
   "cell_type": "code",
   "execution_count": 10,
   "metadata": {
    "deletable": false,
    "editable": false
   },
   "outputs": [
    {
     "name": "stdout",
     "output_type": "stream",
     "text": [
      "\u001b[92mAll tests passed!\n",
      "\u001b[92mAll tests passed!\n",
      "\u001b[92mAll tests passed!\n"
     ]
    }
   ],
   "source": [
    "from public_tests import *\n",
    "\n",
    "test_network(q_network)\n",
    "test_network(target_q_network)\n",
    "test_optimizer(optimizer, ALPHA) "
   ]
  },
  {
   "cell_type": "markdown",
   "metadata": {},
   "source": [
    "<a name=\"6.2\"></a>\n",
    "### Experience Replay\n",
    "\n",
    "When an agent interacts with the environment, the states, actions, and rewards the agent experiences are sequential by nature. If the agent tries to learn from these consecutive experiences it can run into problems due to the strong correlations between them. To avoid this, employ a technique known as **Experience Replay** to generate uncorrelated experiences for training our agent. Experience replay consists of storing the agent's experiences (i.e the states, actions, and rewards the agent receives) in a memory buffer and then sampling a random mini-batch of experiences from the buffer to do the learning. The experience tuples $(S_t, A_t, R_t, S_{t+1})$ will be added to the memory buffer at each time step as the agent interacts with the environment.\n"
   ]
  },
  {
   "cell_type": "code",
   "execution_count": 11,
   "metadata": {
    "deletable": false,
    "editable": false
   },
   "outputs": [],
   "source": [
    "# Store experiences as named tuples\n",
    "experience = namedtuple(\"Experience\", field_names=[\"state\", \"action\", \"reward\", \"next_state\", \"done\"])"
   ]
  },
  {
   "cell_type": "markdown",
   "metadata": {},
   "source": [
    "<a name=\"7\"></a>\n",
    "## Deep Q-Learning Algorithm with Experience Replay\n"
   ]
  },
  {
   "cell_type": "markdown",
   "metadata": {},
   "source": [
    "Compute the loss between the $y$ targets and the $Q(s,a)$ values. \n",
    "\n"
   ]
  },
  {
   "cell_type": "code",
   "execution_count": 12,
   "metadata": {
    "deletable": false
   },
   "outputs": [],
   "source": [
    "\n",
    "\n",
    "def compute_loss(experiences, gamma, q_network, target_q_network):\n",
    "    \"\"\" \n",
    "    Calculates the loss.\n",
    "    \n",
    "    Args:\n",
    "      experiences: (tuple) tuple of [\"state\", \"action\", \"reward\", \"next_state\", \"done\"] namedtuples\n",
    "      gamma: (float) The discount factor.\n",
    "      q_network: (tf.keras.Sequential) Keras model for predicting the q_values\n",
    "      target_q_network: (tf.keras.Sequential) Keras model for predicting the targets\n",
    "          \n",
    "    Returns:\n",
    "      loss: (TensorFlow Tensor(shape=(0,), dtype=int32)) the Mean-Squared Error between\n",
    "            the y targets and the Q(s,a) values.\n",
    "    \"\"\"\n",
    "\n",
    "    # Unpack the mini-batch of experience tuples\n",
    "    states, actions, rewards, next_states, done_vals = experiences\n",
    "    \n",
    "    # Compute max Q^(s,a)\n",
    "    max_qsa = tf.reduce_max(target_q_network(next_states), axis=-1)\n",
    "    \n",
    "    # Set y = R if episode terminates, otherwise set y = R + γ max Q^(s,a).\n",
    "    y_targets = rewards + (gamma*max_qsa * (1 - done_vals))\n",
    "    \n",
    "    # Get the q_values and reshape to match y_targets\n",
    "    q_values = q_network(states)\n",
    "    q_values = tf.gather_nd(q_values, tf.stack([tf.range(q_values.shape[0]),\n",
    "                                                tf.cast(actions, tf.int32)], axis=1))\n",
    "        \n",
    "    # Compute the loss\n",
    "    loss = MSE(y_targets, q_values)\n",
    "    \n",
    "    return loss"
   ]
  },
  {
   "cell_type": "code",
   "execution_count": 13,
   "metadata": {
    "deletable": false,
    "editable": false
   },
   "outputs": [
    {
     "name": "stdout",
     "output_type": "stream",
     "text": [
      "\u001b[92mAll tests passed!\n"
     ]
    }
   ],
   "source": [
    "test_compute_loss(compute_loss)"
   ]
  },
  {
   "cell_type": "markdown",
   "metadata": {},
   "source": [
    "<a name=\"8\"></a>\n",
    "## Update the Network Weights\n"
   ]
  },
  {
   "cell_type": "code",
   "execution_count": 14,
   "metadata": {
    "deletable": false,
    "editable": false
   },
   "outputs": [],
   "source": [
    "@tf.function\n",
    "def agent_learn(experiences, gamma):\n",
    "    \"\"\"\n",
    "    Updates the weights of the Q networks.\n",
    "    \n",
    "    Args:\n",
    "      experiences: (tuple) tuple of [\"state\", \"action\", \"reward\", \"next_state\", \"done\"] namedtuples\n",
    "      gamma: (float) The discount factor.\n",
    "    \n",
    "    \"\"\"\n",
    "    \n",
    "    # Calculate the loss\n",
    "    with tf.GradientTape() as tape:\n",
    "        loss = compute_loss(experiences, gamma, q_network, target_q_network)\n",
    "\n",
    "    # Get the gradients of the loss with respect to the weights.\n",
    "    gradients = tape.gradient(loss, q_network.trainable_variables)\n",
    "    \n",
    "    # Update the weights of the q_network.\n",
    "    optimizer.apply_gradients(zip(gradients, q_network.trainable_variables))\n",
    "\n",
    "    # update the weights of target q_network\n",
    "    utils.update_target_network(q_network, target_q_network)"
   ]
  },
  {
   "cell_type": "markdown",
   "metadata": {},
   "source": [
    "<a name=\"9\"></a>\n",
    "## Train the Agent\n",
    "\n",
    "Now train the agent to solve the Lunar Lander environment. \n",
    "\n"
   ]
  },
  {
   "cell_type": "code",
   "execution_count": null,
   "metadata": {
    "deletable": false,
    "editable": false
   },
   "outputs": [
    {
     "name": "stdout",
     "output_type": "stream",
     "text": [
      "Episode 72 | Total point average of the last 100 episodes: -167.71"
     ]
    }
   ],
   "source": [
    "start = time.time()\n",
    "\n",
    "num_episodes = 2000\n",
    "max_num_timesteps = 1000\n",
    "\n",
    "total_point_history = []\n",
    "\n",
    "num_p_av = 100    # number of total points to use for averaging\n",
    "epsilon = 1.0     # initial ε value for ε-greedy policy\n",
    "\n",
    "# Create a memory buffer D with capacity N\n",
    "memory_buffer = deque(maxlen=MEMORY_SIZE)\n",
    "\n",
    "# Set the target network weights equal to the Q-Network weights\n",
    "target_q_network.set_weights(q_network.get_weights())\n",
    "\n",
    "for i in range(num_episodes):\n",
    "    \n",
    "    # Reset the environment to the initial state and get the initial state\n",
    "    state = env.reset()\n",
    "    total_points = 0\n",
    "    \n",
    "    for t in range(max_num_timesteps):\n",
    "        \n",
    "        # From the current state S choose an action A using an ε-greedy policy\n",
    "        state_qn = np.expand_dims(state, axis=0)  # state needs to be the right shape for the q_network\n",
    "        q_values = q_network(state_qn)\n",
    "        action = utils.get_action(q_values, epsilon)\n",
    "        \n",
    "        # Take action A and receive reward R and the next state S'\n",
    "        next_state, reward, done, _ = env.step(action)\n",
    "        \n",
    "        # Store experience tuple (S,A,R,S') in the memory buffer.\n",
    "        # We store the done variable as well for convenience.\n",
    "        memory_buffer.append(experience(state, action, reward, next_state, done))\n",
    "        \n",
    "        # Only update the network every NUM_STEPS_FOR_UPDATE time steps.\n",
    "        update = utils.check_update_conditions(t, NUM_STEPS_FOR_UPDATE, memory_buffer)\n",
    "        \n",
    "        if update:\n",
    "            # Sample random mini-batch of experience tuples (S,A,R,S') from D\n",
    "            experiences = utils.get_experiences(memory_buffer)\n",
    "            \n",
    "            # Set the y targets, perform a gradient descent step,\n",
    "            # and update the network weights.\n",
    "            agent_learn(experiences, GAMMA)\n",
    "        \n",
    "        state = next_state.copy()\n",
    "        total_points += reward\n",
    "        \n",
    "        if done:\n",
    "            break\n",
    "            \n",
    "    total_point_history.append(total_points)\n",
    "    av_latest_points = np.mean(total_point_history[-num_p_av:])\n",
    "    \n",
    "    # Update the ε value\n",
    "    epsilon = utils.get_new_eps(epsilon)\n",
    "\n",
    "    print(f\"\\rEpisode {i+1} | Total point average of the last {num_p_av} episodes: {av_latest_points:.2f}\", end=\"\")\n",
    "\n",
    "    if (i+1) % num_p_av == 0:\n",
    "        print(f\"\\rEpisode {i+1} | Total point average of the last {num_p_av} episodes: {av_latest_points:.2f}\")\n",
    "\n",
    "    # We will consider that the environment is solved if we get an\n",
    "    # average of 200 points in the last 100 episodes.\n",
    "    if av_latest_points >= 200.0:\n",
    "        print(f\"\\n\\nEnvironment solved in {i+1} episodes!\")\n",
    "        q_network.save('lunar_lander_model.h5')\n",
    "        break\n",
    "        \n",
    "tot_time = time.time() - start\n",
    "\n",
    "print(f\"\\nTotal Runtime: {tot_time:.2f} s ({(tot_time/60):.2f} min)\")"
   ]
  },
  {
   "cell_type": "markdown",
   "metadata": {},
   "source": [
    "We can plot the total point history along with the moving average to see how our agent improved during training. If you want to know about the different plotting options available in the `utils.plot_history` function we encourage you to take a look at the `utils` module."
   ]
  },
  {
   "cell_type": "code",
   "execution_count": null,
   "metadata": {
    "deletable": false,
    "editable": false,
    "id": "E_EUXxurfe8m",
    "scrolled": false
   },
   "outputs": [],
   "source": [
    "# Plot the total point history along with the moving average\n",
    "utils.plot_history(total_point_history)"
   ]
  },
  {
   "attachments": {
    "image.png": {
     "image/png": "[encoded data removed]"
    }
   },
   "cell_type": "markdown",
   "metadata": {},
   "source": [
    "![image.png](attachment:image.png)"
   ]
  },
  {
   "cell_type": "markdown",
   "metadata": {
    "id": "c_xwgaX5MnYt"
   },
   "source": [
    "<a name=\"10\"></a>\n",
    "## See the Trained Agent In Action\n",
    "\n",
    "Now see trained agent in action. Use the `utils.create_video` function to create a video of the agent interacting with the environment using the trained $Q$-Network. The `utils.create_video` function uses the `imageio` library to create the video. This library produces some warnings that can be distracting, so, to suppress these warnings we run the code below."
   ]
  },
  {
   "cell_type": "code",
   "execution_count": null,
   "metadata": {
    "deletable": false,
    "editable": false
   },
   "outputs": [],
   "source": [
    "# Suppress warnings from imageio\n",
    "import logging\n",
    "logging.getLogger().setLevel(logging.ERROR)"
   ]
  },
  {
   "cell_type": "code",
   "execution_count": null,
   "metadata": {
    "deletable": false,
    "editable": false,
    "id": "3Ttb_zLeJKiG"
   },
   "outputs": [],
   "source": [
    "filename = \"./videos/lunar_lander.mp4\"\n",
    "\n",
    "utils.create_video(filename, env, q_network)\n",
    "utils.embed_mp4(filename)"
   ]
  },
  {
   "cell_type": "markdown",
   "metadata": {},
   "source": [
    "Could not port the video to the ipynb file :("
   ]
  }
 ],
 "metadata": {
  "accelerator": "GPU",
  "colab": {
   "collapsed_sections": [],
   "name": "TensorFlow - Lunar Lander.ipynb",
   "provenance": []
  },
  "kernelspec": {
   "display_name": "Python 3",
   "language": "python",
   "name": "python3"
  },
  "language_info": {
   "codemirror_mode": {
    "name": "ipython",
    "version": 3
   },
   "file_extension": ".py",
   "mimetype": "text/x-python",
   "name": "python",
   "nbconvert_exporter": "python",
   "pygments_lexer": "ipython3",
   "version": "3.7.6"
  }
 },
 "nbformat": 4,
 "nbformat_minor": 1
}
